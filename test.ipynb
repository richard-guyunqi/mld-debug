{
 "cells": [
  {
   "cell_type": "markdown",
   "id": "3730d002",
   "metadata": {},
   "source": [
    "## Setting up gradio"
   ]
  },
  {
   "cell_type": "code",
   "execution_count": null,
   "id": "316b79c6",
   "metadata": {},
   "outputs": [
    {
     "name": "stdout",
     "output_type": "stream",
     "text": [
      "/home/ec2-user/SageMaker/mld-debug/src_files/models/caformer/metaformer_baselines.py:843: UserWarning: Overwriting poolformerv2_s12 in registry with src_files.models.caformer.metaformer_baselines.poolformerv2_s12. This is because the name being registered conflicts with an existing name. Please check if this is not expected.\n",
      "  def poolformerv2_s12(pretrained=False, **kwargs):\n",
      "/home/ec2-user/SageMaker/mld-debug/src_files/models/caformer/metaformer_baselines.py:859: UserWarning: Overwriting poolformerv2_s24 in registry with src_files.models.caformer.metaformer_baselines.poolformerv2_s24. This is because the name being registered conflicts with an existing name. Please check if this is not expected.\n",
      "  def poolformerv2_s24(pretrained=False, **kwargs):\n",
      "/home/ec2-user/SageMaker/mld-debug/src_files/models/caformer/metaformer_baselines.py:875: UserWarning: Overwriting poolformerv2_s36 in registry with src_files.models.caformer.metaformer_baselines.poolformerv2_s36. This is because the name being registered conflicts with an existing name. Please check if this is not expected.\n",
      "  def poolformerv2_s36(pretrained=False, **kwargs):\n",
      "/home/ec2-user/SageMaker/mld-debug/src_files/models/caformer/metaformer_baselines.py:891: UserWarning: Overwriting poolformerv2_m36 in registry with src_files.models.caformer.metaformer_baselines.poolformerv2_m36. This is because the name being registered conflicts with an existing name. Please check if this is not expected.\n",
      "  def poolformerv2_m36(pretrained=False, **kwargs):\n",
      "/home/ec2-user/SageMaker/mld-debug/src_files/models/caformer/metaformer_baselines.py:907: UserWarning: Overwriting poolformerv2_m48 in registry with src_files.models.caformer.metaformer_baselines.poolformerv2_m48. This is because the name being registered conflicts with an existing name. Please check if this is not expected.\n",
      "  def poolformerv2_m48(pretrained=False, **kwargs):\n",
      "/home/ec2-user/SageMaker/mld-debug/src_files/models/caformer/metaformer_baselines.py:923: UserWarning: Overwriting convformer_s18 in registry with src_files.models.caformer.metaformer_baselines.convformer_s18. This is because the name being registered conflicts with an existing name. Please check if this is not expected.\n",
      "  def convformer_s18(pretrained=False, **kwargs):\n",
      "/home/ec2-user/SageMaker/mld-debug/src_files/models/caformer/metaformer_baselines.py:1003: UserWarning: Overwriting convformer_s36 in registry with src_files.models.caformer.metaformer_baselines.convformer_s36. This is because the name being registered conflicts with an existing name. Please check if this is not expected.\n",
      "  def convformer_s36(pretrained=False, **kwargs):\n",
      "/home/ec2-user/SageMaker/mld-debug/src_files/models/caformer/metaformer_baselines.py:1083: UserWarning: Overwriting convformer_m36 in registry with src_files.models.caformer.metaformer_baselines.convformer_m36. This is because the name being registered conflicts with an existing name. Please check if this is not expected.\n",
      "  def convformer_m36(pretrained=False, **kwargs):\n",
      "/home/ec2-user/SageMaker/mld-debug/src_files/models/caformer/metaformer_baselines.py:1163: UserWarning: Overwriting convformer_b36 in registry with src_files.models.caformer.metaformer_baselines.convformer_b36. This is because the name being registered conflicts with an existing name. Please check if this is not expected.\n",
      "  def convformer_b36(pretrained=False, **kwargs):\n",
      "/home/ec2-user/SageMaker/mld-debug/src_files/models/caformer/metaformer_baselines.py:1243: UserWarning: Overwriting caformer_s18 in registry with src_files.models.caformer.metaformer_baselines.caformer_s18. This is because the name being registered conflicts with an existing name. Please check if this is not expected.\n",
      "  def caformer_s18(pretrained=False, **kwargs):\n",
      "/home/ec2-user/SageMaker/mld-debug/src_files/models/caformer/metaformer_baselines.py:1323: UserWarning: Overwriting caformer_s36 in registry with src_files.models.caformer.metaformer_baselines.caformer_s36. This is because the name being registered conflicts with an existing name. Please check if this is not expected.\n",
      "  def caformer_s36(pretrained=False, **kwargs):\n",
      "/home/ec2-user/SageMaker/mld-debug/src_files/models/caformer/metaformer_baselines.py:1403: UserWarning: Overwriting caformer_m36 in registry with src_files.models.caformer.metaformer_baselines.caformer_m36. This is because the name being registered conflicts with an existing name. Please check if this is not expected.\n",
      "  def caformer_m36(pretrained=False, **kwargs):\n",
      "/home/ec2-user/SageMaker/mld-debug/src_files/models/caformer/metaformer_baselines.py:1493: UserWarning: Overwriting caformer_b36 in registry with src_files.models.caformer.metaformer_baselines.caformer_b36. This is because the name being registered conflicts with an existing name. Please check if this is not expected.\n",
      "  def caformer_b36(pretrained=False, **kwargs):\n",
      "Running on local URL:  http://127.0.0.1:7860\n",
      "Sagemaker notebooks may require sharing enabled. Setting `share=True` (you can turn this off by setting `share=False` in `launch()` explicitly).\n",
      "\n",
      "Running on public URL: https://6ae29b277780e46620.gradio.live\n",
      "\n",
      "This share link expires in 72 hours. For free permanent hosting and GPU upgrades, run `gradio deploy` from Terminal to deploy to Spaces (https://huggingface.co/spaces)\n",
      "pic:  <PIL.Image.Image image mode=RGB size=1280x720 at 0x7F56ECD10A30>\n",
      "ckpt:  models/caformer_m36-mAP35.ckpt\n",
      "args:  {'data': <PIL.Image.Image image mode=RGB size=1280x720 at 0x7F56ECD10A30>, 'ckpt': 'models/caformer_m36-mAP35.ckpt', 'model_name': 'caformer_m36', 'num_classes': 20586, 'keep_ratio': False, 'bs': 1, 'tag_index_dict_path': 's3://pixai-test-uw2/richard/tags_index_dict.parquet', 'use_ml_decoder': 0, 'fp16': False, 'ema': False, 'frelu': True, 'xformers': False, 'decoder_embedding': 512, 'num_layers_decoder': 4, 'num_head_decoder': 8, 'num_queries': 80, 'scale_skip': 1, 'out_type': 'json', 'image_size': 448, 'thr': 0.7}\n",
      "args in demo.py:  <__main__.Args object at 0x7f56ee2a3be0>\n",
      "creating model caformer_m36...\n",
      "Traceback (most recent call last):\n",
      "  File \"/home/ec2-user/anaconda3/envs/pytorch_p310/lib/python3.10/site-packages/gradio/queueing.py\", line 527, in process_events\n",
      "    response = await route_utils.call_process_api(\n",
      "  File \"/home/ec2-user/anaconda3/envs/pytorch_p310/lib/python3.10/site-packages/gradio/route_utils.py\", line 261, in call_process_api\n",
      "    output = await app.get_blocks().process_api(\n",
      "  File \"/home/ec2-user/anaconda3/envs/pytorch_p310/lib/python3.10/site-packages/gradio/blocks.py\", line 1788, in process_api\n",
      "    result = await self.call_function(\n",
      "  File \"/home/ec2-user/anaconda3/envs/pytorch_p310/lib/python3.10/site-packages/gradio/blocks.py\", line 1340, in call_function\n",
      "    prediction = await anyio.to_thread.run_sync(\n",
      "  File \"/home/ec2-user/anaconda3/envs/pytorch_p310/lib/python3.10/site-packages/anyio/to_thread.py\", line 56, in run_sync\n",
      "    return await get_async_backend().run_sync_in_worker_thread(\n",
      "  File \"/home/ec2-user/anaconda3/envs/pytorch_p310/lib/python3.10/site-packages/anyio/_backends/_asyncio.py\", line 2144, in run_sync_in_worker_thread\n",
      "    return await future\n",
      "  File \"/home/ec2-user/anaconda3/envs/pytorch_p310/lib/python3.10/site-packages/anyio/_backends/_asyncio.py\", line 851, in run\n",
      "    result = context.run(func, *args)\n",
      "  File \"/home/ec2-user/anaconda3/envs/pytorch_p310/lib/python3.10/site-packages/gradio/utils.py\", line 759, in wrapper\n",
      "    response = f(*args, **kwargs)\n",
      "  File \"/home/ec2-user/SageMaker/mld-debug/gradio_demo_test.py\", line 222, in image_to_mldanbooru_tags\n",
      "    filtered_tags = get_tags_from_image(pic, threshold, size, keep_ratio, model)    # Call this model to derive tags from the model\n",
      "  File \"/home/ec2-user/SageMaker/mld-debug/gradio_demo_test.py\", line 198, in get_tags_from_image\n",
      "    demo = Demo(args)\n",
      "  File \"/home/ec2-user/SageMaker/mld-debug/demo_ca_gradio.py\", line 37, in __init__\n",
      "    state = torch.load(args.ckpt, map_location='cpu')\n",
      "  File \"/home/ec2-user/anaconda3/envs/pytorch_p310/lib/python3.10/site-packages/torch/serialization.py\", line 986, in load\n",
      "    with _open_file_like(f, 'rb') as opened_file:\n",
      "  File \"/home/ec2-user/anaconda3/envs/pytorch_p310/lib/python3.10/site-packages/torch/serialization.py\", line 435, in _open_file_like\n",
      "    return _open_file(name_or_buffer, mode)\n",
      "  File \"/home/ec2-user/anaconda3/envs/pytorch_p310/lib/python3.10/site-packages/torch/serialization.py\", line 416, in __init__\n",
      "    super().__init__(open(name, mode))\n",
      "FileNotFoundError: [Errno 2] No such file or directory: 'models/caformer_m36-mAP35.ckpt'\n"
     ]
    },
    {
     "name": "stdout",
     "output_type": "stream",
     "text": [
      "pic:  <PIL.Image.Image image mode=RGB size=1280x720 at 0x7F56EDE3DAE0>\n",
      "ckpt:  models/caformer_m36-mAP45.ckpt\n",
      "args:  {'data': <PIL.Image.Image image mode=RGB size=1280x720 at 0x7F56EDE3DAE0>, 'ckpt': 'models/caformer_m36-mAP45.ckpt', 'model_name': 'caformer_m36', 'num_classes': 20586, 'keep_ratio': False, 'bs': 1, 'tag_index_dict_path': 's3://pixai-test-uw2/richard/tags_index_dict.parquet', 'use_ml_decoder': 0, 'fp16': False, 'ema': False, 'frelu': True, 'xformers': False, 'decoder_embedding': 512, 'num_layers_decoder': 4, 'num_head_decoder': 8, 'num_queries': 80, 'scale_skip': 1, 'out_type': 'json', 'image_size': 448, 'thr': 0.7}\n",
      "args in demo.py:  <__main__.Args object at 0x7f56ecd10ac0>\n",
      "creating model caformer_m36...\n",
      "done\n",
      "male_focus:0.97, 1boy:0.962, brown_hair:0.894, solo:0.884, portrait:0.733, parody:0.718, black_eyes:0.709, blurry:0.704\n",
      "male_focus, 1boy, brown_hair, solo, portrait, parody, black_eyes, blurry\n",
      "pic:  <PIL.Image.Image image mode=RGB size=1280x720 at 0x7F56EC40FA60>\n",
      "ckpt:  models/caformer_m36-mAP35.ckpt\n",
      "args:  {'data': <PIL.Image.Image image mode=RGB size=1280x720 at 0x7F56EC40FA60>, 'ckpt': 'models/caformer_m36-mAP35.ckpt', 'model_name': 'caformer_m36', 'num_classes': 20586, 'keep_ratio': False, 'bs': 1, 'tag_index_dict_path': 's3://pixai-test-uw2/richard/tags_index_dict.parquet', 'use_ml_decoder': 0, 'fp16': False, 'ema': False, 'frelu': True, 'xformers': False, 'decoder_embedding': 512, 'num_layers_decoder': 4, 'num_head_decoder': 8, 'num_queries': 80, 'scale_skip': 1, 'out_type': 'json', 'image_size': 448, 'thr': 0.7}\n",
      "args in demo.py:  <__main__.Args object at 0x7f56eda25510>\n",
      "creating model caformer_m36...\n",
      "done\n",
      "solo:0.928, brown_hair:0.896, 1boy:0.885, male_focus:0.881, brown_eyes:0.758, clenched_teeth:0.75, teeth:0.725, portrait:0.714, open_mouth:0.71, wide-eyed:0.71, black_eyes:0.707\n",
      "solo, brown_hair, 1boy, male_focus, brown_eyes, clenched_teeth, teeth, portrait, open_mouth, wide-eyed, black_eyes\n"
     ]
    }
   ],
   "source": [
    "!python gradio_demo_test.py"
   ]
  },
  {
   "cell_type": "code",
   "execution_count": null,
   "id": "7a7b0632",
   "metadata": {},
   "outputs": [],
   "source": [
    "!pip install hbutils"
   ]
  },
  {
   "cell_type": "code",
   "execution_count": null,
   "id": "174b3905",
   "metadata": {},
   "outputs": [],
   "source": [
    "import os\n",
    "os.chdir('..')"
   ]
  },
  {
   "cell_type": "code",
   "execution_count": null,
   "id": "39455ed7",
   "metadata": {},
   "outputs": [],
   "source": [
    "import json\n",
    "\n",
    "def read_config(config_path):\n",
    "    \"\"\"Reads a JSON configuration file and returns a dictionary.\"\"\"\n",
    "    try:\n",
    "        with open(config_path, 'r') as file:\n",
    "            config_dict = json.load(file)\n",
    "        return config_dict\n",
    "    except FileNotFoundError:\n",
    "        print(f\"Error: The file '{config_path}' does not exist.\")\n",
    "        return {}\n",
    "    except json.JSONDecodeError:\n",
    "        print(f\"Error: The file '{config_path}' is not a valid JSON file.\")\n",
    "        return {}\n",
    "\n",
    "# Usage\n",
    "config_path = 'gradio_config.json'\n",
    "config = read_config(config_path)\n",
    "print(config)\n"
   ]
  },
  {
   "cell_type": "code",
   "execution_count": null,
   "id": "5175b425",
   "metadata": {},
   "outputs": [],
   "source": [
    "!pip install hbutils"
   ]
  },
  {
   "cell_type": "code",
   "execution_count": null,
   "id": "f0d82bbc",
   "metadata": {},
   "outputs": [],
   "source": [
    "import gradio as gr\n",
    "\n",
    "def greet(name, intensity):\n",
    "    return \"Hello, \" + name + \"!\" * int(intensity)\n",
    "\n",
    "demo = gr.Interface(\n",
    "    fn=greet,\n",
    "    inputs=[\"text\", \"slider\"],\n",
    "    outputs=[\"text\"],\n",
    ")\n",
    "\n",
    "demo.launch()"
   ]
  },
  {
   "cell_type": "code",
   "execution_count": null,
   "id": "3160149f",
   "metadata": {},
   "outputs": [],
   "source": []
  },
  {
   "cell_type": "code",
   "execution_count": null,
   "id": "18512af8",
   "metadata": {},
   "outputs": [],
   "source": []
  },
  {
   "cell_type": "markdown",
   "id": "6b619aa3",
   "metadata": {},
   "source": [
    "## Local Training/Inference\n"
   ]
  },
  {
   "cell_type": "code",
   "execution_count": null,
   "id": "9efeabfd",
   "metadata": {},
   "outputs": [],
   "source": [
    "!python demo_ca_find_thrd.py --data test_dataset --ckpt models/caformer_m36-mAP45.ckpt --general_thr .99 --characters_thr .70"
   ]
  },
  {
   "cell_type": "code",
   "execution_count": null,
   "id": "65cd48ae",
   "metadata": {},
   "outputs": [],
   "source": [
    "!nvidia-smi"
   ]
  },
  {
   "cell_type": "code",
   "execution_count": null,
   "id": "c8c7a797",
   "metadata": {},
   "outputs": [],
   "source": [
    "!rm -r models/caformer_m36-1-1.ckpt"
   ]
  },
  {
   "cell_type": "code",
   "execution_count": null,
   "id": "019786e9",
   "metadata": {},
   "outputs": [],
   "source": [
    "import os\n",
    "os.getcwd()"
   ]
  },
  {
   "cell_type": "markdown",
   "id": "04a5db67",
   "metadata": {
    "scrolled": true
   },
   "source": [
    "!torchrun --standalone --nnodes=1 --nproc-per-node=8 train_ca_ac_good.py --batch_size 10 --lr 1e-10 --max_lr 5e-10 --epochs 1 --save_step 10000 --log_step 500 --ckpt models/caformer_m36-1-10000.ckpt --out_dir models/\n",
    "\n",
    "\n",
    "\n",
    "\n"
   ]
  },
  {
   "cell_type": "code",
   "execution_count": null,
   "id": "fde93233",
   "metadata": {},
   "outputs": [],
   "source": [
    "import os\n",
    "print(\"RANK:\", os.environ.get(\"RANK\"))\n",
    "print(\"WORLD_SIZE:\", os.environ.get(\"WORLD_SIZE\"))\n",
    "print(\"LOCAL_RANK:\", os.environ.get(\"LOCAL_RANK\"))\n"
   ]
  },
  {
   "cell_type": "code",
   "execution_count": null,
   "id": "3b409e1a",
   "metadata": {},
   "outputs": [],
   "source": [
    "import torch\n",
    "torch.run('test.py')"
   ]
  },
  {
   "cell_type": "code",
   "execution_count": null,
   "id": "35e3e955",
   "metadata": {},
   "outputs": [],
   "source": [
    "!python test.py"
   ]
  },
  {
   "cell_type": "code",
   "execution_count": null,
   "id": "94cd48cf",
   "metadata": {},
   "outputs": [],
   "source": [
    "import os\n",
    "import torch\n",
    "\n",
    "# Set the master address and master port\n",
    "# MASTER_ADDR corresponds to the IP address of the machine\n",
    "# MASTER_PORT can be any free port\n",
    "os.environ['MASTER_ADDR'] = 'localhost'\n",
    "os.environ['MASTER_PORT'] = '12355'\n",
    "\n",
    "# Assuming a single node (machine) with 8 GPUs\n",
    "os.environ['WORLD_SIZE'] = '8'\n",
    "os.environ['RANK'] = '0'\n",
    "os.environ['LOCAL_RANK'] = str(torch.cuda.current_device())\n",
    "\n",
    "print('here')\n",
    "\n",
    "# Initialize the distributed environment\n",
    "torch.distributed.init_process_group(\n",
    "    backend='nccl', \n",
    "    init_method='env://'\n",
    ")\n",
    "\n",
    "print(\"RANK:\", os.environ['RANK'])\n",
    "print(\"WORLD_SIZE:\", os.environ['WORLD_SIZE'])\n",
    "print(\"LOCAL_RANK:\", os.environ['LOCAL_RANK'])\n"
   ]
  },
  {
   "cell_type": "code",
   "execution_count": null,
   "id": "bc54582e",
   "metadata": {
    "scrolled": true
   },
   "outputs": [],
   "source": [
    "!python demo.py --data test_dataset/2.webp --ckpt ./models/default_tresnet_l-1-50.pth "
   ]
  },
  {
   "cell_type": "code",
   "execution_count": null,
   "id": "2059961d",
   "metadata": {
    "scrolled": false
   },
   "outputs": [],
   "source": [
    "!python demo.py --data test_dataset/2.webp --thr .63"
   ]
  },
  {
   "cell_type": "code",
   "execution_count": null,
   "id": "7955702b",
   "metadata": {},
   "outputs": [],
   "source": []
  },
  {
   "cell_type": "code",
   "execution_count": null,
   "id": "e6bcbb46",
   "metadata": {},
   "outputs": [],
   "source": [
    "/Users/richardguyunqi/Desktop/richard/pixai/danbooru_mld/danbooru_cleaned/parquet_loader.ipynb"
   ]
  },
  {
   "cell_type": "code",
   "execution_count": null,
   "id": "ed2b196d",
   "metadata": {},
   "outputs": [],
   "source": []
  }
 ],
 "metadata": {
  "kernelspec": {
   "display_name": "conda_pytorch_p310",
   "language": "python",
   "name": "conda_pytorch_p310"
  },
  "language_info": {
   "codemirror_mode": {
    "name": "ipython",
    "version": 3
   },
   "file_extension": ".py",
   "mimetype": "text/x-python",
   "name": "python",
   "nbconvert_exporter": "python",
   "pygments_lexer": "ipython3",
   "version": "3.10.13"
  }
 },
 "nbformat": 4,
 "nbformat_minor": 5
}
