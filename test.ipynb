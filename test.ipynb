{
 "cells": [
  {
   "cell_type": "markdown",
   "id": "3730d002",
   "metadata": {},
   "source": [
    "## Setting up gradio"
   ]
  },
  {
   "cell_type": "code",
   "execution_count": null,
   "id": "316b79c6",
   "metadata": {},
   "outputs": [
    {
     "name": "stdout",
     "output_type": "stream",
     "text": [
      "/home/ec2-user/SageMaker/mld-debug/src_files/models/caformer/metaformer_baselines.py:843: UserWarning: Overwriting poolformerv2_s12 in registry with src_files.models.caformer.metaformer_baselines.poolformerv2_s12. This is because the name being registered conflicts with an existing name. Please check if this is not expected.\n",
      "  def poolformerv2_s12(pretrained=False, **kwargs):\n",
      "/home/ec2-user/SageMaker/mld-debug/src_files/models/caformer/metaformer_baselines.py:859: UserWarning: Overwriting poolformerv2_s24 in registry with src_files.models.caformer.metaformer_baselines.poolformerv2_s24. This is because the name being registered conflicts with an existing name. Please check if this is not expected.\n",
      "  def poolformerv2_s24(pretrained=False, **kwargs):\n",
      "/home/ec2-user/SageMaker/mld-debug/src_files/models/caformer/metaformer_baselines.py:875: UserWarning: Overwriting poolformerv2_s36 in registry with src_files.models.caformer.metaformer_baselines.poolformerv2_s36. This is because the name being registered conflicts with an existing name. Please check if this is not expected.\n",
      "  def poolformerv2_s36(pretrained=False, **kwargs):\n",
      "/home/ec2-user/SageMaker/mld-debug/src_files/models/caformer/metaformer_baselines.py:891: UserWarning: Overwriting poolformerv2_m36 in registry with src_files.models.caformer.metaformer_baselines.poolformerv2_m36. This is because the name being registered conflicts with an existing name. Please check if this is not expected.\n",
      "  def poolformerv2_m36(pretrained=False, **kwargs):\n",
      "/home/ec2-user/SageMaker/mld-debug/src_files/models/caformer/metaformer_baselines.py:907: UserWarning: Overwriting poolformerv2_m48 in registry with src_files.models.caformer.metaformer_baselines.poolformerv2_m48. This is because the name being registered conflicts with an existing name. Please check if this is not expected.\n",
      "  def poolformerv2_m48(pretrained=False, **kwargs):\n",
      "/home/ec2-user/SageMaker/mld-debug/src_files/models/caformer/metaformer_baselines.py:923: UserWarning: Overwriting convformer_s18 in registry with src_files.models.caformer.metaformer_baselines.convformer_s18. This is because the name being registered conflicts with an existing name. Please check if this is not expected.\n",
      "  def convformer_s18(pretrained=False, **kwargs):\n",
      "/home/ec2-user/SageMaker/mld-debug/src_files/models/caformer/metaformer_baselines.py:1003: UserWarning: Overwriting convformer_s36 in registry with src_files.models.caformer.metaformer_baselines.convformer_s36. This is because the name being registered conflicts with an existing name. Please check if this is not expected.\n",
      "  def convformer_s36(pretrained=False, **kwargs):\n",
      "/home/ec2-user/SageMaker/mld-debug/src_files/models/caformer/metaformer_baselines.py:1083: UserWarning: Overwriting convformer_m36 in registry with src_files.models.caformer.metaformer_baselines.convformer_m36. This is because the name being registered conflicts with an existing name. Please check if this is not expected.\n",
      "  def convformer_m36(pretrained=False, **kwargs):\n",
      "/home/ec2-user/SageMaker/mld-debug/src_files/models/caformer/metaformer_baselines.py:1163: UserWarning: Overwriting convformer_b36 in registry with src_files.models.caformer.metaformer_baselines.convformer_b36. This is because the name being registered conflicts with an existing name. Please check if this is not expected.\n",
      "  def convformer_b36(pretrained=False, **kwargs):\n",
      "/home/ec2-user/SageMaker/mld-debug/src_files/models/caformer/metaformer_baselines.py:1243: UserWarning: Overwriting caformer_s18 in registry with src_files.models.caformer.metaformer_baselines.caformer_s18. This is because the name being registered conflicts with an existing name. Please check if this is not expected.\n",
      "  def caformer_s18(pretrained=False, **kwargs):\n",
      "/home/ec2-user/SageMaker/mld-debug/src_files/models/caformer/metaformer_baselines.py:1323: UserWarning: Overwriting caformer_s36 in registry with src_files.models.caformer.metaformer_baselines.caformer_s36. This is because the name being registered conflicts with an existing name. Please check if this is not expected.\n",
      "  def caformer_s36(pretrained=False, **kwargs):\n",
      "/home/ec2-user/SageMaker/mld-debug/src_files/models/caformer/metaformer_baselines.py:1403: UserWarning: Overwriting caformer_m36 in registry with src_files.models.caformer.metaformer_baselines.caformer_m36. This is because the name being registered conflicts with an existing name. Please check if this is not expected.\n",
      "  def caformer_m36(pretrained=False, **kwargs):\n",
      "/home/ec2-user/SageMaker/mld-debug/src_files/models/caformer/metaformer_baselines.py:1493: UserWarning: Overwriting caformer_b36 in registry with src_files.models.caformer.metaformer_baselines.caformer_b36. This is because the name being registered conflicts with an existing name. Please check if this is not expected.\n",
      "  def caformer_b36(pretrained=False, **kwargs):\n",
      "Running on local URL:  http://127.0.0.1:7861\n",
      "Sagemaker notebooks may require sharing enabled. Setting `share=True` (you can turn this off by setting `share=False` in `launch()` explicitly).\n",
      "\n",
      "Running on public URL: https://dab82a844ee3e517b8.gradio.live\n",
      "\n",
      "This share link expires in 72 hours. For free permanent hosting and GPU upgrades, run `gradio deploy` from Terminal to deploy to Spaces (https://huggingface.co/spaces)\n",
      "pic:  <PIL.Image.Image image mode=RGB size=500x281 at 0x7F8A90145A20>\n",
      "ckpt:  models/caformer_m36-mAP35.ckpt\n",
      "args:  {'data': <PIL.Image.Image image mode=RGB size=500x281 at 0x7F8A90145A20>, 'ckpt': 'models/caformer_m36-mAP35.ckpt', 'model_name': 'caformer_m36', 'num_classes': 20586, 'keep_ratio': False, 'bs': 1, 'tag_index_dict_path': 's3://pixai-test-uw2/richard/tags_index_dict.parquet', 'use_ml_decoder': 0, 'fp16': False, 'ema': False, 'frelu': True, 'xformers': False, 'decoder_embedding': 512, 'num_layers_decoder': 4, 'num_head_decoder': 8, 'num_queries': 80, 'scale_skip': 1, 'out_type': 'json', 'image_size': 448, 'thr': 0.7}\n",
      "args in demo.py:  <__main__.Args object at 0x7f8a9230bfa0>\n",
      "creating model caformer_m36...\n",
      "done\n",
      "long_hair:0.902, black_hair:0.814, brown_hair:0.809, 1girl:0.805, multiple_girls:0.771, 2girls:0.766, amasawa_yuuko:0.732, 1boy:0.732, katsura_kotonoha:0.71, gloves:0.701\n",
      "long_hair, black_hair, brown_hair, 1girl, multiple_girls, 2girls, amasawa_yuuko, 1boy, katsura_kotonoha, gloves\n",
      "pic:  <PIL.Image.Image image mode=RGB size=960x960 at 0x7F8A90CA7E80>\n",
      "ckpt:  models/caformer_m36-mAP35.ckpt\n",
      "args:  {'data': <PIL.Image.Image image mode=RGB size=960x960 at 0x7F8A90CA7E80>, 'ckpt': 'models/caformer_m36-mAP35.ckpt', 'model_name': 'caformer_m36', 'num_classes': 20586, 'keep_ratio': False, 'bs': 1, 'tag_index_dict_path': 's3://pixai-test-uw2/richard/tags_index_dict.parquet', 'use_ml_decoder': 0, 'fp16': False, 'ema': False, 'frelu': True, 'xformers': False, 'decoder_embedding': 512, 'num_layers_decoder': 4, 'num_head_decoder': 8, 'num_queries': 80, 'scale_skip': 1, 'out_type': 'json', 'image_size': 448, 'thr': 0.7}\n",
      "args in demo.py:  <__main__.Args object at 0x7f8a902377f0>\n",
      "creating model caformer_m36...\n",
      "done\n",
      "1girl:1.0, solo:0.996, purple_eyes:0.989, breasts:0.982, oni_horns:0.981, purple_hair:0.978, horns:0.976, shuten_douji_(fate):0.975, short_hair:0.966, skin-covered_horns:0.962, looking_at_viewer:0.921, oni:0.919, bob_cut:0.919, white_background:0.9, simple_background:0.888, bare_shoulders:0.885, upper_body:0.857, spoken_anger_vein:0.855, off_shoulder:0.84, cleavage:0.828, anger_vein:0.792, japanese_clothes:0.786, purple_kimono:0.782, blush:0.768, jiangshi:0.764, closed_mouth:0.755, medium_breasts:0.752, hair_ornament:0.752, pout:0.749, kimono:0.746, short_eyebrows:0.739, speech_bubble:0.738, crossed_arms:0.726, small_breasts:0.726, hair_between_eyes:0.724, collarbone:0.721, :t:0.716, revealing_clothes:0.715, signature:0.713, squiggle:0.712, ofuda:0.706\n",
      "1girl, solo, purple_eyes, breasts, oni_horns, purple_hair, horns, shuten_douji_(fate), short_hair, skin-covered_horns, looking_at_viewer, oni, bob_cut, white_background, simple_background, bare_shoulders, upper_body, spoken_anger_vein, off_shoulder, cleavage, anger_vein, japanese_clothes, purple_kimono, blush, jiangshi, closed_mouth, medium_breasts, hair_ornament, pout, kimono, short_eyebrows, speech_bubble, crossed_arms, small_breasts, hair_between_eyes, collarbone, :t, revealing_clothes, signature, squiggle, ofuda\n"
     ]
    },
    {
     "name": "stdout",
     "output_type": "stream",
     "text": [
      "pic:  <PIL.Image.Image image mode=RGB size=960x960 at 0x7F8A83FF43D0>\n",
      "ckpt:  models/caformer_m36-mAP45.ckpt\n",
      "args:  {'data': <PIL.Image.Image image mode=RGB size=960x960 at 0x7F8A83FF43D0>, 'ckpt': 'models/caformer_m36-mAP45.ckpt', 'model_name': 'caformer_m36', 'num_classes': 20586, 'keep_ratio': False, 'bs': 1, 'tag_index_dict_path': 's3://pixai-test-uw2/richard/tags_index_dict.parquet', 'use_ml_decoder': 0, 'fp16': False, 'ema': False, 'frelu': True, 'xformers': False, 'decoder_embedding': 512, 'num_layers_decoder': 4, 'num_head_decoder': 8, 'num_queries': 80, 'scale_skip': 1, 'out_type': 'json', 'image_size': 448, 'thr': 0.7}\n",
      "args in demo.py:  <__main__.Args object at 0x7f8a92355ab0>\n",
      "creating model caformer_m36...\n",
      "done\n",
      "1girl:1.0, horns:0.999, shuten_douji_(fate):0.999, solo:0.999, oni_horns:0.995, purple_eyes:0.989, purple_hair:0.983, oni:0.976, short_hair:0.967, skin-covered_horns:0.954, anger_vein:0.94, looking_at_viewer:0.929, spoken_anger_vein:0.918, breasts:0.913, crossed_arms:0.913, bare_shoulders:0.893, pout:0.879, bob_cut:0.871, small_breasts:0.87, upper_body:0.86, blush:0.86, :t:0.851, kimono:0.844, headpiece:0.843, off_shoulder:0.838, purple_kimono:0.83, japanese_clothes:0.815, simple_background:0.807, collarbone:0.805, white_background:0.794, makeup:0.789, short_eyebrows:0.785, !?:0.753, eyeliner:0.743, closed_mouth:0.735, grey_background:0.72, fang:0.713, long_sleeves:0.711\n",
      "1girl, horns, shuten_douji_(fate), solo, oni_horns, purple_eyes, purple_hair, oni, short_hair, skin-covered_horns, anger_vein, looking_at_viewer, spoken_anger_vein, breasts, crossed_arms, bare_shoulders, pout, bob_cut, small_breasts, upper_body, blush, :t, kimono, headpiece, off_shoulder, purple_kimono, japanese_clothes, simple_background, collarbone, white_background, makeup, short_eyebrows, !?, eyeliner, closed_mouth, grey_background, fang, long_sleeves\n",
      "pic:  <PIL.Image.Image image mode=RGB size=1120x1600 at 0x7F8A90CA70A0>\n",
      "ckpt:  models/caformer_m36-mAP35.ckpt\n",
      "args:  {'data': <PIL.Image.Image image mode=RGB size=1120x1600 at 0x7F8A90CA70A0>, 'ckpt': 'models/caformer_m36-mAP35.ckpt', 'model_name': 'caformer_m36', 'num_classes': 20586, 'keep_ratio': True, 'bs': 1, 'tag_index_dict_path': 's3://pixai-test-uw2/richard/tags_index_dict.parquet', 'use_ml_decoder': 0, 'fp16': False, 'ema': False, 'frelu': True, 'xformers': False, 'decoder_embedding': 512, 'num_layers_decoder': 4, 'num_head_decoder': 8, 'num_queries': 80, 'scale_skip': 1, 'out_type': 'json', 'image_size': 448, 'thr': 0.7}\n",
      "args in demo.py:  <__main__.Args object at 0x7f8a83f04760>\n",
      "creating model caformer_m36...\n",
      "done\n",
      "long_hair:0.996, blue_eyes:0.996, blonde_hair:0.984, 1girl:0.974, blush:0.931, pantyhose:0.927, solo:0.916, dress:0.911, bound:0.871, full_body:0.863, queen_elizabeth_(azur_lane):0.861, standing:0.846, chain:0.842, crown:0.827, bdsm:0.814, frills:0.805, bondage:0.804, braid:0.802, looking_at_viewer:0.798, long_sleeves:0.798, closed_mouth:0.768, chained:0.764, holding:0.752, collarbone:0.751, shoes:0.75, restrained:0.75, boots:0.746, nose_blush:0.743, cross-laced_footwear:0.739, very_long_hair:0.739, black_pantyhose:0.727, bow:0.727, solo_focus:0.724, bound_wrists:0.718, grey_background:0.717, rain:0.703\n",
      "long_hair, blue_eyes, blonde_hair, 1girl, blush, pantyhose, solo, dress, bound, full_body, queen_elizabeth_(azur_lane), standing, chain, crown, bdsm, frills, bondage, braid, looking_at_viewer, long_sleeves, closed_mouth, chained, holding, collarbone, shoes, restrained, boots, nose_blush, cross-laced_footwear, very_long_hair, black_pantyhose, bow, solo_focus, bound_wrists, grey_background, rain\n",
      "pic:  <PIL.Image.Image image mode=RGB size=3000x3500 at 0x7F89C819A950>\n",
      "ckpt:  models/caformer_m36-mAP35.ckpt\n",
      "args:  {'data': <PIL.Image.Image image mode=RGB size=3000x3500 at 0x7F89C819A950>, 'ckpt': 'models/caformer_m36-mAP35.ckpt', 'model_name': 'caformer_m36', 'num_classes': 20586, 'keep_ratio': True, 'bs': 1, 'tag_index_dict_path': 's3://pixai-test-uw2/richard/tags_index_dict.parquet', 'use_ml_decoder': 0, 'fp16': False, 'ema': False, 'frelu': True, 'xformers': False, 'decoder_embedding': 512, 'num_layers_decoder': 4, 'num_head_decoder': 8, 'num_queries': 80, 'scale_skip': 1, 'out_type': 'json', 'image_size': 448, 'thr': 0.7}\n",
      "args in demo.py:  <__main__.Args object at 0x7f8ae9413370>\n",
      "creating model caformer_m36...\n",
      "done\n",
      "1girl:1.0, breasts:1.0, nipples:1.0, long_hair:0.998, animal_ears:0.99, nude:0.987, hammann_(azur_lane):0.986, blue_eyes:0.985, solo:0.982, thighhighs:0.979, navel:0.956, blush:0.955, white_hair:0.949, white_thighhighs:0.91, cat_ears:0.892, hair_bow:0.891, no_shoes:0.883, black_bow:0.881, white_background:0.877, medium_breasts:0.876, bow:0.859, simple_background:0.858, very_long_hair:0.84, pussy:0.826, chair:0.82, closed_mouth:0.811, stomach:0.783, looking_at_viewer:0.78, full_body:0.768, hairband:0.753, spoken_heart:0.752, spread_legs:0.747, completely_nude:0.74, animal_ear_fluff:0.732, sitting:0.731, anastasia_(fate):0.723, tail:0.722, in_container:0.714, morgan_le_fay_(fate):0.7\n",
      "1girl, breasts, nipples, long_hair, animal_ears, nude, hammann_(azur_lane), blue_eyes, solo, thighhighs, navel, blush, white_hair, white_thighhighs, cat_ears, hair_bow, no_shoes, black_bow, white_background, medium_breasts, bow, simple_background, very_long_hair, pussy, chair, closed_mouth, stomach, looking_at_viewer, full_body, hairband, spoken_heart, spread_legs, completely_nude, animal_ear_fluff, sitting, anastasia_(fate), tail, in_container, morgan_le_fay_(fate)\n",
      "pic:  <PIL.Image.Image image mode=RGB size=1600x1600 at 0x7F89C81A7B20>\n",
      "ckpt:  models/caformer_m36-mAP35.ckpt\n",
      "args:  {'data': <PIL.Image.Image image mode=RGB size=1600x1600 at 0x7F89C81A7B20>, 'ckpt': 'models/caformer_m36-mAP35.ckpt', 'model_name': 'caformer_m36', 'num_classes': 20586, 'keep_ratio': True, 'bs': 1, 'tag_index_dict_path': 's3://pixai-test-uw2/richard/tags_index_dict.parquet', 'use_ml_decoder': 0, 'fp16': False, 'ema': False, 'frelu': True, 'xformers': False, 'decoder_embedding': 512, 'num_layers_decoder': 4, 'num_head_decoder': 8, 'num_queries': 80, 'scale_skip': 1, 'out_type': 'json', 'image_size': 448, 'thr': 0.7}\n",
      "args in demo.py:  <__main__.Args object at 0x7f8a781020e0>\n",
      "creating model caformer_m36...\n",
      "done\n",
      "1girl:1.0, long_hair:0.99, solo:0.982, bondage:0.97, bdsm:0.967, bound:0.966, shibari:0.926, breasts:0.925, black_hair:0.92, school_uniform:0.888, arms_behind_back:0.877, rope:0.87, serafuku:0.853, crotch_rope:0.844, pantyhose:0.84, blush:0.831, open_mouth:0.824, shibari_over_clothes:0.815, gagged:0.782, hino_rei:0.781, sailor_collar:0.78, tears:0.78, medium_breasts:0.739, large_breasts:0.735, gag:0.73, lying:0.706, restrained:0.7\n",
      "1girl, long_hair, solo, bondage, bdsm, bound, shibari, breasts, black_hair, school_uniform, arms_behind_back, rope, serafuku, crotch_rope, pantyhose, blush, open_mouth, shibari_over_clothes, gagged, hino_rei, sailor_collar, tears, medium_breasts, large_breasts, gag, lying, restrained\n",
      "pic:  <PIL.Image.Image image mode=RGB size=1020x1447 at 0x7F8A83404280>\n",
      "ckpt:  models/caformer_m36-mAP35.ckpt\n",
      "args:  {'data': <PIL.Image.Image image mode=RGB size=1020x1447 at 0x7F8A83404280>, 'ckpt': 'models/caformer_m36-mAP35.ckpt', 'model_name': 'caformer_m36', 'num_classes': 20586, 'keep_ratio': True, 'bs': 1, 'tag_index_dict_path': 's3://pixai-test-uw2/richard/tags_index_dict.parquet', 'use_ml_decoder': 0, 'fp16': False, 'ema': False, 'frelu': True, 'xformers': False, 'decoder_embedding': 512, 'num_layers_decoder': 4, 'num_head_decoder': 8, 'num_queries': 80, 'scale_skip': 1, 'out_type': 'json', 'image_size': 448, 'thr': 0.7}\n",
      "args in demo.py:  <__main__.Args object at 0x7f8a834a4a30>\n",
      "creating model caformer_m36...\n",
      "done\n",
      "1girl:1.0, solo:1.0, green_eyes:0.968, brown_hair:0.945, ponytail:0.91, white_background:0.899, long_hair:0.885, simple_background:0.883, lilka_eleniak:0.865, barefoot:0.857, sitting:0.82, looking_at_viewer:0.814, full_body:0.787, signature:0.785, dated:0.78, noshiro_(kancolle):0.747, shorts:0.739, bare_shoulders:0.729, collarbone:0.725, closed_mouth:0.714\n",
      "1girl, solo, green_eyes, brown_hair, ponytail, white_background, long_hair, simple_background, lilka_eleniak, barefoot, sitting, looking_at_viewer, full_body, signature, dated, noshiro_(kancolle), shorts, bare_shoulders, collarbone, closed_mouth\n"
     ]
    },
    {
     "name": "stdout",
     "output_type": "stream",
     "text": [
      "pic:  <PIL.Image.Image image mode=RGB size=2041x2929 at 0x7F8A83F041C0>\n",
      "ckpt:  models/caformer_m36-mAP35.ckpt\n",
      "args:  {'data': <PIL.Image.Image image mode=RGB size=2041x2929 at 0x7F8A83F041C0>, 'ckpt': 'models/caformer_m36-mAP35.ckpt', 'model_name': 'caformer_m36', 'num_classes': 20586, 'keep_ratio': True, 'bs': 1, 'tag_index_dict_path': 's3://pixai-test-uw2/richard/tags_index_dict.parquet', 'use_ml_decoder': 0, 'fp16': False, 'ema': False, 'frelu': True, 'xformers': False, 'decoder_embedding': 512, 'num_layers_decoder': 4, 'num_head_decoder': 8, 'num_queries': 80, 'scale_skip': 1, 'out_type': 'json', 'image_size': 448, 'thr': 0.7}\n",
      "args in demo.py:  <__main__.Args object at 0x7f8a83f04070>\n",
      "creating model caformer_m36...\n",
      "done\n",
      "breasts:0.992, multiple_girls:0.916, green_eyes:0.884, bdsm:0.883, 2girls:0.883, bound:0.881, navel:0.878, brown_hair:0.868, gag:0.862, bondage:0.862, gagged:0.839, long_hair:0.821, feet:0.8, ball_gag:0.799, arms_behind_back:0.795, restrained:0.785, large_breasts:0.775, medium_breasts:0.757, glasses:0.751, bound_arms:0.746, headphones:0.745, sex_toy:0.739, soles:0.739, toes:0.72, swimsuit:0.717, solo:0.715, inoue_orihime:0.708, barefoot:0.704, cleavage:0.704, one-piece_swimsuit:0.703, blush:0.703, shibari:0.7, orange_hair:0.7\n",
      "breasts, multiple_girls, green_eyes, bdsm, 2girls, bound, navel, brown_hair, gag, bondage, gagged, long_hair, feet, ball_gag, arms_behind_back, restrained, large_breasts, medium_breasts, glasses, bound_arms, headphones, sex_toy, soles, toes, swimsuit, solo, inoue_orihime, barefoot, cleavage, one-piece_swimsuit, blush, shibari, orange_hair\n",
      "pic:  <PIL.Image.Image image mode=RGB size=850x1499 at 0x7F89C81990C0>\n",
      "ckpt:  models/caformer_m36-mAP35.ckpt\n",
      "args:  {'data': <PIL.Image.Image image mode=RGB size=850x1499 at 0x7F89C81990C0>, 'ckpt': 'models/caformer_m36-mAP35.ckpt', 'model_name': 'caformer_m36', 'num_classes': 20586, 'keep_ratio': True, 'bs': 1, 'tag_index_dict_path': 's3://pixai-test-uw2/richard/tags_index_dict.parquet', 'use_ml_decoder': 0, 'fp16': False, 'ema': False, 'frelu': True, 'xformers': False, 'decoder_embedding': 512, 'num_layers_decoder': 4, 'num_head_decoder': 8, 'num_queries': 80, 'scale_skip': 1, 'out_type': 'json', 'image_size': 448, 'thr': 0.7}\n",
      "args in demo.py:  <__main__.Args object at 0x7f89c8199d50>\n",
      "creating model caformer_m36...\n",
      "done\n",
      "1girl:1.0, solo:0.999, breasts:0.95, barefoot:0.923, long_hair:0.92, purple_eyes:0.915, bound:0.907, black_hair:0.903, bdsm:0.888, bondage:0.886, looking_at_viewer:0.873, arms_behind_back:0.863, full_body:0.838, feet:0.818, gag:0.816, thigh_strap:0.809, large_breasts:0.804, higuchi_kaede:0.795, toes:0.788, shibari:0.786, bow:0.784, ball_gag:0.775, ponytail:0.775, crotch_rope:0.77, gagged:0.765, bound_arms:0.762, rope:0.752, shibari_over_clothes:0.748, indoors:0.742, hair_between_eyes:0.737, bare_legs:0.726, one-piece_swimsuit:0.707, long_sleeves:0.705, mouth_hold:0.705, shirt:0.702\n",
      "1girl, solo, breasts, barefoot, long_hair, purple_eyes, bound, black_hair, bdsm, bondage, looking_at_viewer, arms_behind_back, full_body, feet, gag, thigh_strap, large_breasts, higuchi_kaede, toes, shibari, bow, ball_gag, ponytail, crotch_rope, gagged, bound_arms, rope, shibari_over_clothes, indoors, hair_between_eyes, bare_legs, one-piece_swimsuit, long_sleeves, mouth_hold, shirt\n",
      "pic:  <PIL.Image.Image image mode=RGB size=850x1499 at 0x7F8A8341C700>\n",
      "ckpt:  models/caformer_m36-mAP45.ckpt\n",
      "args:  {'data': <PIL.Image.Image image mode=RGB size=850x1499 at 0x7F8A8341C700>, 'ckpt': 'models/caformer_m36-mAP45.ckpt', 'model_name': 'caformer_m36', 'num_classes': 20586, 'keep_ratio': True, 'bs': 1, 'tag_index_dict_path': 's3://pixai-test-uw2/richard/tags_index_dict.parquet', 'use_ml_decoder': 0, 'fp16': False, 'ema': False, 'frelu': True, 'xformers': False, 'decoder_embedding': 512, 'num_layers_decoder': 4, 'num_head_decoder': 8, 'num_queries': 80, 'scale_skip': 1, 'out_type': 'json', 'image_size': 448, 'thr': 0.7}\n",
      "args in demo.py:  <__main__.Args object at 0x7f8a8341c730>\n",
      "creating model caformer_m36...\n",
      "done\n",
      "1girl:1.0, solo:0.995, bdsm:0.976, bound:0.972, bondage:0.966, purple_eyes:0.963, gag:0.956, long_hair:0.949, barefoot:0.921, gagged:0.895, breasts:0.877, higuchi_kaede:0.874, ball_gag:0.865, ponytail:0.859, bow:0.851, arms_behind_back:0.846, full_body:0.818, hair_bow:0.817, restrained:0.811, one-piece_swimsuit:0.802, long_sleeves:0.798, large_breasts:0.787, white_bow:0.785, looking_at_viewer:0.781, rope:0.773, bound_arms:0.758, toes:0.753, shibari:0.753, black_hair:0.738, blue_one-piece_swimsuit:0.736, jacket:0.735, sidelocks:0.729, hair_between_eyes:0.724, leotard:0.721, feet:0.711, indoors:0.71, bound_legs:0.706, swimsuit:0.706, thigh_strap:0.703, grey_hair:0.701\n",
      "1girl, solo, bdsm, bound, bondage, purple_eyes, gag, long_hair, barefoot, gagged, breasts, higuchi_kaede, ball_gag, ponytail, bow, arms_behind_back, full_body, hair_bow, restrained, one-piece_swimsuit, long_sleeves, large_breasts, white_bow, looking_at_viewer, rope, bound_arms, toes, shibari, black_hair, blue_one-piece_swimsuit, jacket, sidelocks, hair_between_eyes, leotard, feet, indoors, bound_legs, swimsuit, thigh_strap, grey_hair\n",
      "pic:  <PIL.Image.Image image mode=RGB size=850x752 at 0x7F8A90CA6F20>\n",
      "ckpt:  models/caformer_m36-mAP45.ckpt\n",
      "args:  {'data': <PIL.Image.Image image mode=RGB size=850x752 at 0x7F8A90CA6F20>, 'ckpt': 'models/caformer_m36-mAP45.ckpt', 'model_name': 'caformer_m36', 'num_classes': 20586, 'keep_ratio': True, 'bs': 1, 'tag_index_dict_path': 's3://pixai-test-uw2/richard/tags_index_dict.parquet', 'use_ml_decoder': 0, 'fp16': False, 'ema': False, 'frelu': True, 'xformers': False, 'decoder_embedding': 512, 'num_layers_decoder': 4, 'num_head_decoder': 8, 'num_queries': 80, 'scale_skip': 1, 'out_type': 'json', 'image_size': 448, 'thr': 0.7}\n",
      "args in demo.py:  <__main__.Args object at 0x7f8a78102fb0>\n",
      "creating model caformer_m36...\n",
      "done\n",
      "breasts:1.0, multiple_girls:1.0, 2girls:0.999, eunie_(xenoblade):0.997, animal_ears:0.995, nipples:0.994, mio_(xenoblade):0.994, head_wings:0.993, bound:0.99, wings:0.988, bdsm:0.984, bondage:0.982, cat_ears:0.972, rope:0.953, shibari:0.942, arms_behind_back:0.939, pantyhose:0.927, restrained:0.903, blue_eyes:0.901, torn_clothes:0.883, large_breasts:0.877, blush:0.863, bound_legs:0.855, short_hair:0.853, bound_arms:0.827, miqo'te:0.809, sitting:0.804, open_mouth:0.8, brown_hair:0.799, gag:0.793, yellow_eyes:0.79, sex_toy:0.788, cat_tail:0.774, white_hair:0.772, medium_breasts:0.765, green_eyes:0.761, bound_together:0.758, shibari_over_clothes:0.757, closed_mouth:0.755, medium_hair:0.749, cat_girl:0.742, feathered_wings:0.738, vibrator:0.737, warrior_of_light_(ff14):0.736, white_wings:0.736, tail:0.729, heterochromia:0.729, crotch_rope:0.724, breast_bondage:0.724, tears:0.724, bodysuit:0.721, collarbone:0.716, braid:0.711, gagged:0.711, bare_shoulders:0.71, nude:0.701\n",
      "breasts, multiple_girls, 2girls, eunie_(xenoblade), animal_ears, nipples, mio_(xenoblade), head_wings, bound, wings, bdsm, bondage, cat_ears, rope, shibari, arms_behind_back, pantyhose, restrained, blue_eyes, torn_clothes, large_breasts, blush, bound_legs, short_hair, bound_arms, miqo'te, sitting, open_mouth, brown_hair, gag, yellow_eyes, sex_toy, cat_tail, white_hair, medium_breasts, green_eyes, bound_together, shibari_over_clothes, closed_mouth, medium_hair, cat_girl, feathered_wings, vibrator, warrior_of_light_(ff14), white_wings, tail, heterochromia, crotch_rope, breast_bondage, tears, bodysuit, collarbone, braid, gagged, bare_shoulders, nude\n"
     ]
    }
   ],
   "source": [
    "!python gradio_demo_test.py"
   ]
  },
  {
   "cell_type": "code",
   "execution_count": 21,
   "id": "39455ed7",
   "metadata": {},
   "outputs": [
    {
     "name": "stdout",
     "output_type": "stream",
     "text": [
      "{'data': '', 'ckpt': '', 'model_name': 'caformer_m36', 'num_classes': 20586, 'image_size': 448, 'thr': 0.75, 'keep_ratio': False, 'bs': 1, 'tag_index_dict_path': 's3://pixai-test-uw2/richard/tags_index_dict.parquet', 'use_ml_decoder': 0, 'fp16': False, 'ema': False, 'frelu': True, 'xformers': False, 'decoder_embedding': 512, 'num_layers_decoder': 4, 'num_head_decoder': 8, 'num_queries': 80, 'scale_skip': 1, 'out_type': 'json'}\n"
     ]
    }
   ],
   "source": [
    "import json\n",
    "\n",
    "def read_config(config_path):\n",
    "    \"\"\"Reads a JSON configuration file and returns a dictionary.\"\"\"\n",
    "    try:\n",
    "        with open(config_path, 'r') as file:\n",
    "            config_dict = json.load(file)\n",
    "        return config_dict\n",
    "    except FileNotFoundError:\n",
    "        print(f\"Error: The file '{config_path}' does not exist.\")\n",
    "        return {}\n",
    "    except json.JSONDecodeError:\n",
    "        print(f\"Error: The file '{config_path}' is not a valid JSON file.\")\n",
    "        return {}\n",
    "\n",
    "# Usage\n",
    "config_path = 'gradio_config.json'\n",
    "config = read_config(config_path)\n",
    "print(config)\n"
   ]
  },
  {
   "cell_type": "code",
   "execution_count": 17,
   "id": "5175b425",
   "metadata": {},
   "outputs": [
    {
     "name": "stdout",
     "output_type": "stream",
     "text": [
      "Collecting hbutils\n",
      "  Downloading hbutils-0.9.3-py3-none-any.whl.metadata (8.3 kB)\n",
      "Requirement already satisfied: packaging>=21.3 in /home/ec2-user/anaconda3/envs/pytorch_p310/lib/python3.10/site-packages (from hbutils) (21.3)\n",
      "Requirement already satisfied: setuptools>=50.0 in /home/ec2-user/anaconda3/envs/pytorch_p310/lib/python3.10/site-packages (from hbutils) (69.1.0)\n",
      "Collecting pytimeparse>=1.1.8 (from hbutils)\n",
      "  Downloading pytimeparse-1.1.8-py2.py3-none-any.whl.metadata (3.4 kB)\n",
      "Collecting bitmath>=1.3.3.1 (from hbutils)\n",
      "  Downloading bitmath-1.3.3.1.tar.gz (88 kB)\n",
      "\u001b[2K     \u001b[90m━━━━━━━━━━━━━━━━━━━━━━━━━━━━━━━━━━━━━━━━\u001b[0m \u001b[32m88.5/88.5 kB\u001b[0m \u001b[31m6.2 MB/s\u001b[0m eta \u001b[36m0:00:00\u001b[0m\n",
      "\u001b[?25h  Preparing metadata (setup.py) ... \u001b[?25ldone\n",
      "\u001b[?25hCollecting chardet<5,>=3.0.4 (from hbutils)\n",
      "  Downloading chardet-4.0.0-py2.py3-none-any.whl.metadata (3.5 kB)\n",
      "Collecting deprecation>=2.0.0 (from hbutils)\n",
      "  Downloading deprecation-2.1.0-py2.py3-none-any.whl.metadata (4.6 kB)\n",
      "Requirement already satisfied: pyparsing!=3.0.5,>=2.0.2 in /home/ec2-user/anaconda3/envs/pytorch_p310/lib/python3.10/site-packages (from packaging>=21.3->hbutils) (3.1.1)\n",
      "Downloading hbutils-0.9.3-py3-none-any.whl (129 kB)\n",
      "\u001b[2K   \u001b[90m━━━━━━━━━━━━━━━━━━━━━━━━━━━━━━━━━━━━━━━━\u001b[0m \u001b[32m129.7/129.7 kB\u001b[0m \u001b[31m21.1 MB/s\u001b[0m eta \u001b[36m0:00:00\u001b[0m\n",
      "\u001b[?25hDownloading chardet-4.0.0-py2.py3-none-any.whl (178 kB)\n",
      "\u001b[2K   \u001b[90m━━━━━━━━━━━━━━━━━━━━━━━━━━━━━━━━━━━━━━━━\u001b[0m \u001b[32m178.7/178.7 kB\u001b[0m \u001b[31m33.5 MB/s\u001b[0m eta \u001b[36m0:00:00\u001b[0m\n",
      "\u001b[?25hDownloading deprecation-2.1.0-py2.py3-none-any.whl (11 kB)\n",
      "Downloading pytimeparse-1.1.8-py2.py3-none-any.whl (10.0 kB)\n",
      "Building wheels for collected packages: bitmath\n",
      "  Building wheel for bitmath (setup.py) ... \u001b[?25ldone\n",
      "\u001b[?25h  Created wheel for bitmath: filename=bitmath-1.3.3.1-py3-none-any.whl size=23976 sha256=56b7aa9bc1e1adbab6dc6aa2a765884e35c075dc0f3c53570a5b4143380696b2\n",
      "  Stored in directory: /home/ec2-user/.cache/pip/wheels/2d/32/d2/936069b5a9583c55bc7c7dce6c746a543ce61d7dfbb4013e13\n",
      "Successfully built bitmath\n",
      "Installing collected packages: pytimeparse, bitmath, chardet, deprecation, hbutils\n",
      "Successfully installed bitmath-1.3.3.1 chardet-4.0.0 deprecation-2.1.0 hbutils-0.9.3 pytimeparse-1.1.8\n"
     ]
    }
   ],
   "source": [
    "!pip install hbutils"
   ]
  },
  {
   "cell_type": "code",
   "execution_count": 15,
   "id": "f0d82bbc",
   "metadata": {},
   "outputs": [
    {
     "name": "stdout",
     "output_type": "stream",
     "text": [
      "Running on local URL:  http://127.0.0.1:7860\n",
      "Sagemaker notebooks may require sharing enabled. Setting `share=True` (you can turn this off by setting `share=False` in `launch()` explicitly).\n",
      "\n",
      "Running on public URL: https://c6007c41d432db19c0.gradio.live\n",
      "\n",
      "This share link expires in 72 hours. For free permanent hosting and GPU upgrades, run `gradio deploy` from Terminal to deploy to Spaces (https://huggingface.co/spaces)\n"
     ]
    },
    {
     "data": {
      "text/html": [
       "<div><iframe src=\"https://c6007c41d432db19c0.gradio.live\" width=\"100%\" height=\"500\" allow=\"autoplay; camera; microphone; clipboard-read; clipboard-write;\" frameborder=\"0\" allowfullscreen></iframe></div>"
      ],
      "text/plain": [
       "<IPython.core.display.HTML object>"
      ]
     },
     "metadata": {},
     "output_type": "display_data"
    },
    {
     "data": {
      "text/plain": []
     },
     "execution_count": 15,
     "metadata": {},
     "output_type": "execute_result"
    }
   ],
   "source": [
    "import gradio as gr\n",
    "\n",
    "def greet(name, intensity):\n",
    "    return \"Hello, \" + name + \"!\" * int(intensity)\n",
    "\n",
    "demo = gr.Interface(\n",
    "    fn=greet,\n",
    "    inputs=[\"text\", \"slider\"],\n",
    "    outputs=[\"text\"],\n",
    ")\n",
    "\n",
    "demo.launch()"
   ]
  },
  {
   "cell_type": "code",
   "execution_count": null,
   "id": "3160149f",
   "metadata": {},
   "outputs": [],
   "source": []
  },
  {
   "cell_type": "code",
   "execution_count": null,
   "id": "18512af8",
   "metadata": {},
   "outputs": [],
   "source": []
  },
  {
   "cell_type": "markdown",
   "id": "6b619aa3",
   "metadata": {},
   "source": [
    "## Local Training/Inference\n"
   ]
  },
  {
   "cell_type": "code",
   "execution_count": 16,
   "id": "9efeabfd",
   "metadata": {},
   "outputs": [
    {
     "name": "stdout",
     "output_type": "stream",
     "text": [
      "/home/ec2-user/SageMaker/mld-debug/src_files/models/caformer/metaformer_baselines.py:843: UserWarning: Overwriting poolformerv2_s12 in registry with src_files.models.caformer.metaformer_baselines.poolformerv2_s12. This is because the name being registered conflicts with an existing name. Please check if this is not expected.\n",
      "  def poolformerv2_s12(pretrained=False, **kwargs):\n",
      "/home/ec2-user/SageMaker/mld-debug/src_files/models/caformer/metaformer_baselines.py:859: UserWarning: Overwriting poolformerv2_s24 in registry with src_files.models.caformer.metaformer_baselines.poolformerv2_s24. This is because the name being registered conflicts with an existing name. Please check if this is not expected.\n",
      "  def poolformerv2_s24(pretrained=False, **kwargs):\n",
      "/home/ec2-user/SageMaker/mld-debug/src_files/models/caformer/metaformer_baselines.py:875: UserWarning: Overwriting poolformerv2_s36 in registry with src_files.models.caformer.metaformer_baselines.poolformerv2_s36. This is because the name being registered conflicts with an existing name. Please check if this is not expected.\n",
      "  def poolformerv2_s36(pretrained=False, **kwargs):\n",
      "/home/ec2-user/SageMaker/mld-debug/src_files/models/caformer/metaformer_baselines.py:891: UserWarning: Overwriting poolformerv2_m36 in registry with src_files.models.caformer.metaformer_baselines.poolformerv2_m36. This is because the name being registered conflicts with an existing name. Please check if this is not expected.\n",
      "  def poolformerv2_m36(pretrained=False, **kwargs):\n",
      "/home/ec2-user/SageMaker/mld-debug/src_files/models/caformer/metaformer_baselines.py:907: UserWarning: Overwriting poolformerv2_m48 in registry with src_files.models.caformer.metaformer_baselines.poolformerv2_m48. This is because the name being registered conflicts with an existing name. Please check if this is not expected.\n",
      "  def poolformerv2_m48(pretrained=False, **kwargs):\n",
      "/home/ec2-user/SageMaker/mld-debug/src_files/models/caformer/metaformer_baselines.py:923: UserWarning: Overwriting convformer_s18 in registry with src_files.models.caformer.metaformer_baselines.convformer_s18. This is because the name being registered conflicts with an existing name. Please check if this is not expected.\n",
      "  def convformer_s18(pretrained=False, **kwargs):\n",
      "/home/ec2-user/SageMaker/mld-debug/src_files/models/caformer/metaformer_baselines.py:1003: UserWarning: Overwriting convformer_s36 in registry with src_files.models.caformer.metaformer_baselines.convformer_s36. This is because the name being registered conflicts with an existing name. Please check if this is not expected.\n",
      "  def convformer_s36(pretrained=False, **kwargs):\n",
      "/home/ec2-user/SageMaker/mld-debug/src_files/models/caformer/metaformer_baselines.py:1083: UserWarning: Overwriting convformer_m36 in registry with src_files.models.caformer.metaformer_baselines.convformer_m36. This is because the name being registered conflicts with an existing name. Please check if this is not expected.\n",
      "  def convformer_m36(pretrained=False, **kwargs):\n",
      "/home/ec2-user/SageMaker/mld-debug/src_files/models/caformer/metaformer_baselines.py:1163: UserWarning: Overwriting convformer_b36 in registry with src_files.models.caformer.metaformer_baselines.convformer_b36. This is because the name being registered conflicts with an existing name. Please check if this is not expected.\n",
      "  def convformer_b36(pretrained=False, **kwargs):\n",
      "/home/ec2-user/SageMaker/mld-debug/src_files/models/caformer/metaformer_baselines.py:1243: UserWarning: Overwriting caformer_s18 in registry with src_files.models.caformer.metaformer_baselines.caformer_s18. This is because the name being registered conflicts with an existing name. Please check if this is not expected.\n",
      "  def caformer_s18(pretrained=False, **kwargs):\n",
      "/home/ec2-user/SageMaker/mld-debug/src_files/models/caformer/metaformer_baselines.py:1323: UserWarning: Overwriting caformer_s36 in registry with src_files.models.caformer.metaformer_baselines.caformer_s36. This is because the name being registered conflicts with an existing name. Please check if this is not expected.\n",
      "  def caformer_s36(pretrained=False, **kwargs):\n",
      "/home/ec2-user/SageMaker/mld-debug/src_files/models/caformer/metaformer_baselines.py:1403: UserWarning: Overwriting caformer_m36 in registry with src_files.models.caformer.metaformer_baselines.caformer_m36. This is because the name being registered conflicts with an existing name. Please check if this is not expected.\n",
      "  def caformer_m36(pretrained=False, **kwargs):\n",
      "/home/ec2-user/SageMaker/mld-debug/src_files/models/caformer/metaformer_baselines.py:1493: UserWarning: Overwriting caformer_b36 in registry with src_files.models.caformer.metaformer_baselines.caformer_b36. This is because the name being registered conflicts with an existing name. Please check if this is not expected.\n",
      "  def caformer_b36(pretrained=False, **kwargs):\n",
      "creating model caformer_m36...\n",
      "done\n",
      "100%|███████████████████████████████████████████| 20/20 [00:01<00:00, 12.81it/s]\n"
     ]
    }
   ],
   "source": [
    "!python demo_ca_find_thrd.py --data test_dataset --ckpt models/caformer_m36-mAP45.ckpt --general_thr .99 --characters_thr .70"
   ]
  },
  {
   "cell_type": "code",
   "execution_count": 2,
   "id": "65cd48ae",
   "metadata": {},
   "outputs": [
    {
     "name": "stdout",
     "output_type": "stream",
     "text": [
      "Sat Apr 20 02:49:30 2024       \n",
      "+---------------------------------------------------------------------------------------+\n",
      "| NVIDIA-SMI 535.104.12             Driver Version: 535.104.12   CUDA Version: 12.2     |\n",
      "|-----------------------------------------+----------------------+----------------------+\n",
      "| GPU  Name                 Persistence-M | Bus-Id        Disp.A | Volatile Uncorr. ECC |\n",
      "| Fan  Temp   Perf          Pwr:Usage/Cap |         Memory-Usage | GPU-Util  Compute M. |\n",
      "|                                         |                      |               MIG M. |\n",
      "|=========================================+======================+======================|\n",
      "|   0  NVIDIA A100-SXM4-40GB          On  | 00000000:10:1C.0 Off |                    0 |\n",
      "| N/A   25C    P0              51W / 400W |      4MiB / 40960MiB |      0%      Default |\n",
      "|                                         |                      |             Disabled |\n",
      "+-----------------------------------------+----------------------+----------------------+\n",
      "|   1  NVIDIA A100-SXM4-40GB          On  | 00000000:10:1D.0 Off |                    0 |\n",
      "| N/A   25C    P0              50W / 400W |      4MiB / 40960MiB |      0%      Default |\n",
      "|                                         |                      |             Disabled |\n",
      "+-----------------------------------------+----------------------+----------------------+\n",
      "|   2  NVIDIA A100-SXM4-40GB          On  | 00000000:20:1C.0 Off |                    0 |\n",
      "| N/A   25C    P0              50W / 400W |      4MiB / 40960MiB |      0%      Default |\n",
      "|                                         |                      |             Disabled |\n",
      "+-----------------------------------------+----------------------+----------------------+\n",
      "|   3  NVIDIA A100-SXM4-40GB          On  | 00000000:20:1D.0 Off |                    0 |\n",
      "| N/A   24C    P0              55W / 400W |      4MiB / 40960MiB |      0%      Default |\n",
      "|                                         |                      |             Disabled |\n",
      "+-----------------------------------------+----------------------+----------------------+\n",
      "|   4  NVIDIA A100-SXM4-40GB          On  | 00000000:90:1C.0 Off |                    0 |\n",
      "| N/A   25C    P0              55W / 400W |      4MiB / 40960MiB |      0%      Default |\n",
      "|                                         |                      |             Disabled |\n",
      "+-----------------------------------------+----------------------+----------------------+\n",
      "|   5  NVIDIA A100-SXM4-40GB          On  | 00000000:90:1D.0 Off |                    0 |\n",
      "| N/A   24C    P0              52W / 400W |      4MiB / 40960MiB |      0%      Default |\n",
      "|                                         |                      |             Disabled |\n",
      "+-----------------------------------------+----------------------+----------------------+\n",
      "|   6  NVIDIA A100-SXM4-40GB          On  | 00000000:A0:1C.0 Off |                    0 |\n",
      "| N/A   24C    P0              49W / 400W |      4MiB / 40960MiB |      0%      Default |\n",
      "|                                         |                      |             Disabled |\n",
      "+-----------------------------------------+----------------------+----------------------+\n",
      "|   7  NVIDIA A100-SXM4-40GB          On  | 00000000:A0:1D.0 Off |                    0 |\n",
      "| N/A   25C    P0              51W / 400W |      4MiB / 40960MiB |      0%      Default |\n",
      "|                                         |                      |             Disabled |\n",
      "+-----------------------------------------+----------------------+----------------------+\n",
      "                                                                                         \n",
      "+---------------------------------------------------------------------------------------+\n",
      "| Processes:                                                                            |\n",
      "|  GPU   GI   CI        PID   Type   Process name                            GPU Memory |\n",
      "|        ID   ID                                                             Usage      |\n",
      "|=======================================================================================|\n",
      "|  No running processes found                                                           |\n",
      "+---------------------------------------------------------------------------------------+\n"
     ]
    }
   ],
   "source": [
    "!nvidia-smi"
   ]
  },
  {
   "cell_type": "code",
   "execution_count": 6,
   "id": "c8c7a797",
   "metadata": {},
   "outputs": [],
   "source": [
    "!rm -r models/caformer_m36-1-1.ckpt"
   ]
  },
  {
   "cell_type": "code",
   "execution_count": null,
   "id": "019786e9",
   "metadata": {},
   "outputs": [],
   "source": [
    "import os\n",
    "os.getcwd()"
   ]
  },
  {
   "cell_type": "markdown",
   "id": "04a5db67",
   "metadata": {
    "scrolled": true
   },
   "source": [
    "!torchrun --standalone --nnodes=1 --nproc-per-node=8 train_ca_ac_good.py --batch_size 10 --lr 1e-10 --max_lr 5e-10 --epochs 1 --save_step 10000 --log_step 500 --ckpt models/caformer_m36-1-10000.ckpt --out_dir models/\n",
    "\n",
    "\n",
    "\n",
    "\n"
   ]
  },
  {
   "cell_type": "code",
   "execution_count": null,
   "id": "fde93233",
   "metadata": {},
   "outputs": [],
   "source": [
    "import os\n",
    "print(\"RANK:\", os.environ.get(\"RANK\"))\n",
    "print(\"WORLD_SIZE:\", os.environ.get(\"WORLD_SIZE\"))\n",
    "print(\"LOCAL_RANK:\", os.environ.get(\"LOCAL_RANK\"))\n"
   ]
  },
  {
   "cell_type": "code",
   "execution_count": null,
   "id": "3b409e1a",
   "metadata": {},
   "outputs": [],
   "source": [
    "import torch\n",
    "torch.run('test.py')"
   ]
  },
  {
   "cell_type": "code",
   "execution_count": null,
   "id": "35e3e955",
   "metadata": {},
   "outputs": [],
   "source": [
    "!python test.py"
   ]
  },
  {
   "cell_type": "code",
   "execution_count": null,
   "id": "94cd48cf",
   "metadata": {},
   "outputs": [],
   "source": [
    "import os\n",
    "import torch\n",
    "\n",
    "# Set the master address and master port\n",
    "# MASTER_ADDR corresponds to the IP address of the machine\n",
    "# MASTER_PORT can be any free port\n",
    "os.environ['MASTER_ADDR'] = 'localhost'\n",
    "os.environ['MASTER_PORT'] = '12355'\n",
    "\n",
    "# Assuming a single node (machine) with 8 GPUs\n",
    "os.environ['WORLD_SIZE'] = '8'\n",
    "os.environ['RANK'] = '0'\n",
    "os.environ['LOCAL_RANK'] = str(torch.cuda.current_device())\n",
    "\n",
    "print('here')\n",
    "\n",
    "# Initialize the distributed environment\n",
    "torch.distributed.init_process_group(\n",
    "    backend='nccl', \n",
    "    init_method='env://'\n",
    ")\n",
    "\n",
    "print(\"RANK:\", os.environ['RANK'])\n",
    "print(\"WORLD_SIZE:\", os.environ['WORLD_SIZE'])\n",
    "print(\"LOCAL_RANK:\", os.environ['LOCAL_RANK'])\n"
   ]
  },
  {
   "cell_type": "code",
   "execution_count": null,
   "id": "bc54582e",
   "metadata": {
    "scrolled": true
   },
   "outputs": [],
   "source": [
    "!python demo.py --data test_dataset/2.webp --ckpt ./models/default_tresnet_l-1-50.pth "
   ]
  },
  {
   "cell_type": "code",
   "execution_count": null,
   "id": "2059961d",
   "metadata": {
    "scrolled": false
   },
   "outputs": [],
   "source": [
    "!python demo.py --data test_dataset/2.webp --thr .63"
   ]
  },
  {
   "cell_type": "code",
   "execution_count": null,
   "id": "7955702b",
   "metadata": {},
   "outputs": [],
   "source": []
  },
  {
   "cell_type": "code",
   "execution_count": null,
   "id": "e6bcbb46",
   "metadata": {},
   "outputs": [],
   "source": [
    "/Users/richardguyunqi/Desktop/richard/pixai/danbooru_mld/danbooru_cleaned/parquet_loader.ipynb"
   ]
  },
  {
   "cell_type": "code",
   "execution_count": null,
   "id": "ed2b196d",
   "metadata": {},
   "outputs": [],
   "source": []
  }
 ],
 "metadata": {
  "kernelspec": {
   "display_name": "conda_pytorch_p310",
   "language": "python",
   "name": "conda_pytorch_p310"
  },
  "language_info": {
   "codemirror_mode": {
    "name": "ipython",
    "version": 3
   },
   "file_extension": ".py",
   "mimetype": "text/x-python",
   "name": "python",
   "nbconvert_exporter": "python",
   "pygments_lexer": "ipython3",
   "version": "3.10.13"
  }
 },
 "nbformat": 4,
 "nbformat_minor": 5
}
