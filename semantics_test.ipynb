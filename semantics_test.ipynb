{
 "cells": [
  {
   "cell_type": "code",
   "execution_count": 3,
   "metadata": {},
   "outputs": [],
   "source": [
    "import torch\n",
    "\n",
    "NUM_CLASS = 100"
   ]
  },
  {
   "cell_type": "code",
   "execution_count": 4,
   "metadata": {},
   "outputs": [
    {
     "data": {
      "text/plain": [
       "tensor([0., 0., 0., 0., 0., 0., 0., 0., 0., 0., 0., 0., 0., 0., 0., 0., 0., 0., 0., 0., 0., 0., 0., 0.,\n",
       "        0., 0., 0., 0., 0., 0., 0., 0., 0., 0., 0., 0., 0., 0., 0., 0., 0., 0., 0., 0., 0., 0., 0., 0.,\n",
       "        0., 0., 0., 0., 0., 0., 0., 0., 0., 0., 0., 0., 0., 0., 0., 0., 0., 0., 0., 0., 0., 0., 0., 0.,\n",
       "        0., 0., 0., 0., 0., 0., 0., 0., 0., 0., 0., 0., 0., 0., 0., 0., 0., 0., 0., 0., 0., 0., 0., 0.,\n",
       "        0., 0., 0., 0.])"
      ]
     },
     "execution_count": 4,
     "metadata": {},
     "output_type": "execute_result"
    }
   ],
   "source": [
    "target = torch.zeros(NUM_CLASS, dtype=torch.float)\n",
    "target"
   ]
  },
  {
   "cell_type": "code",
   "execution_count": 7,
   "metadata": {},
   "outputs": [
    {
     "data": {
      "text/plain": [
       "tensor([0., 0., 1., 1., 1., 1., 0., 0., 0., 0., 0., 0., 0., 0., 0., 0., 0., 0.,\n",
       "        0., 0., 0., 0., 0., 0., 0., 0., 0., 0., 0., 0., 0., 0., 0., 0., 0., 0.,\n",
       "        0., 0., 0., 0., 0., 0., 0., 0., 0., 0., 0., 0., 0., 0., 0., 0., 0., 0.,\n",
       "        0., 0., 0., 0., 0., 0., 0., 0., 0., 0., 0., 0., 0., 0., 0., 0., 0., 0.,\n",
       "        0., 0., 0., 0., 0., 0., 0., 0., 0., 0., 0., 0., 0., 0., 0., 0., 0., 0.,\n",
       "        0., 0., 0., 0., 0., 0., 0., 0., 0., 0.])"
      ]
     },
     "execution_count": 7,
     "metadata": {},
     "output_type": "execute_result"
    }
   ],
   "source": [
    "target[[2, 3, 4, 5]]=1.\n",
    "target"
   ]
  },
  {
   "cell_type": "markdown",
   "metadata": {},
   "source": [
    "prepare (fake) data:"
   ]
  },
  {
   "cell_type": "code",
   "execution_count": 11,
   "metadata": {},
   "outputs": [
    {
     "name": "stderr",
     "output_type": "stream",
     "text": [
      "                                          \r"
     ]
    }
   ],
   "source": [
    "import os\n",
    "import unibox as ub\n",
    "\n",
    "\n",
    "IMG_ROOT = \"data\"\n",
    "\n",
    "# 格式是{number}.webp\n",
    "imgs = ub.traverses(IMG_ROOT, ub.IMG_FILES, relative_unix=True)\n",
    "for i in range(len(imgs)):\n",
    "    _img = imgs[i]\n",
    "    os.system(f\"mv {IMG_ROOT}/{_img} {IMG_ROOT}/{i}.webp\")"
   ]
  },
  {
   "cell_type": "code",
   "execution_count": 13,
   "metadata": {},
   "outputs": [
    {
     "data": {
      "text/plain": [
       "[[0, 'webp', [[47, 70, 13, 49]]],\n",
       " [1, 'webp', [[60, 3]]],\n",
       " [2, 'webp', [[96, 16]]],\n",
       " [3, 'webp', [[21, 98, 29, 38]]],\n",
       " [4, 'webp', [[10]]]]"
      ]
     },
     "execution_count": 13,
     "metadata": {},
     "output_type": "execute_result"
    }
   ],
   "source": [
    "# labels: 格式是 list[  [number, extension, class]  ]  \n",
    "import random\n",
    "\n",
    "labels = []\n",
    "for i in range(len(imgs)):\n",
    "    # random pick 1~5 classes\n",
    "    num_classes = random.randint(1, 5)\n",
    "    _classes = random.sample(range(NUM_CLASS), num_classes)\n",
    "    labels.append([i, \"webp\", [_classes]])\n",
    "\n",
    "labels[:5]"
   ]
  },
  {
   "cell_type": "code",
   "execution_count": 14,
   "metadata": {},
   "outputs": [],
   "source": [
    "# save labels as a json\n",
    "import json\n",
    "\n",
    "with open(\"fake_labels.json\", \"w\") as f:\n",
    "    json.dump(labels, f)"
   ]
  },
  {
   "cell_type": "code",
   "execution_count": 21,
   "metadata": {},
   "outputs": [
    {
     "name": "stdout",
     "output_type": "stream",
     "text": [
      "/home/ubuntu/dev/mld-debug/src_files/models/caformer/metaformer_baselines.py:843: UserWarning: Overwriting poolformerv2_s12 in registry with src_files.models.caformer.metaformer_baselines.poolformerv2_s12. This is because the name being registered conflicts with an existing name. Please check if this is not expected.\n",
      "  def poolformerv2_s12(pretrained=False, **kwargs):\n",
      "/home/ubuntu/dev/mld-debug/src_files/models/caformer/metaformer_baselines.py:859: UserWarning: Overwriting poolformerv2_s24 in registry with src_files.models.caformer.metaformer_baselines.poolformerv2_s24. This is because the name being registered conflicts with an existing name. Please check if this is not expected.\n",
      "  def poolformerv2_s24(pretrained=False, **kwargs):\n",
      "/home/ubuntu/dev/mld-debug/src_files/models/caformer/metaformer_baselines.py:875: UserWarning: Overwriting poolformerv2_s36 in registry with src_files.models.caformer.metaformer_baselines.poolformerv2_s36. This is because the name being registered conflicts with an existing name. Please check if this is not expected.\n",
      "  def poolformerv2_s36(pretrained=False, **kwargs):\n",
      "/home/ubuntu/dev/mld-debug/src_files/models/caformer/metaformer_baselines.py:891: UserWarning: Overwriting poolformerv2_m36 in registry with src_files.models.caformer.metaformer_baselines.poolformerv2_m36. This is because the name being registered conflicts with an existing name. Please check if this is not expected.\n",
      "  def poolformerv2_m36(pretrained=False, **kwargs):\n",
      "/home/ubuntu/dev/mld-debug/src_files/models/caformer/metaformer_baselines.py:907: UserWarning: Overwriting poolformerv2_m48 in registry with src_files.models.caformer.metaformer_baselines.poolformerv2_m48. This is because the name being registered conflicts with an existing name. Please check if this is not expected.\n",
      "  def poolformerv2_m48(pretrained=False, **kwargs):\n",
      "/home/ubuntu/dev/mld-debug/src_files/models/caformer/metaformer_baselines.py:923: UserWarning: Overwriting convformer_s18 in registry with src_files.models.caformer.metaformer_baselines.convformer_s18. This is because the name being registered conflicts with an existing name. Please check if this is not expected.\n",
      "  def convformer_s18(pretrained=False, **kwargs):\n",
      "/home/ubuntu/dev/mld-debug/src_files/models/caformer/metaformer_baselines.py:1003: UserWarning: Overwriting convformer_s36 in registry with src_files.models.caformer.metaformer_baselines.convformer_s36. This is because the name being registered conflicts with an existing name. Please check if this is not expected.\n",
      "  def convformer_s36(pretrained=False, **kwargs):\n",
      "/home/ubuntu/dev/mld-debug/src_files/models/caformer/metaformer_baselines.py:1083: UserWarning: Overwriting convformer_m36 in registry with src_files.models.caformer.metaformer_baselines.convformer_m36. This is because the name being registered conflicts with an existing name. Please check if this is not expected.\n",
      "  def convformer_m36(pretrained=False, **kwargs):\n",
      "/home/ubuntu/dev/mld-debug/src_files/models/caformer/metaformer_baselines.py:1163: UserWarning: Overwriting convformer_b36 in registry with src_files.models.caformer.metaformer_baselines.convformer_b36. This is because the name being registered conflicts with an existing name. Please check if this is not expected.\n",
      "  def convformer_b36(pretrained=False, **kwargs):\n",
      "/home/ubuntu/dev/mld-debug/src_files/models/caformer/metaformer_baselines.py:1243: UserWarning: Overwriting caformer_s18 in registry with src_files.models.caformer.metaformer_baselines.caformer_s18. This is because the name being registered conflicts with an existing name. Please check if this is not expected.\n",
      "  def caformer_s18(pretrained=False, **kwargs):\n",
      "/home/ubuntu/dev/mld-debug/src_files/models/caformer/metaformer_baselines.py:1323: UserWarning: Overwriting caformer_s36 in registry with src_files.models.caformer.metaformer_baselines.caformer_s36. This is because the name being registered conflicts with an existing name. Please check if this is not expected.\n",
      "  def caformer_s36(pretrained=False, **kwargs):\n",
      "/home/ubuntu/dev/mld-debug/src_files/models/caformer/metaformer_baselines.py:1403: UserWarning: Overwriting caformer_m36 in registry with src_files.models.caformer.metaformer_baselines.caformer_m36. This is because the name being registered conflicts with an existing name. Please check if this is not expected.\n",
      "  def caformer_m36(pretrained=False, **kwargs):\n",
      "/home/ubuntu/dev/mld-debug/src_files/models/caformer/metaformer_baselines.py:1493: UserWarning: Overwriting caformer_b36 in registry with src_files.models.caformer.metaformer_baselines.caformer_b36. This is because the name being registered conflicts with an existing name. Please check if this is not expected.\n",
      "  def caformer_b36(pretrained=False, **kwargs):\n",
      "\u001b[32m2024-04-10 06:27:45.131\u001b[0m | \u001b[1mINFO    \u001b[0m | \u001b[36m__main__\u001b[0m:\u001b[36m__init__\u001b[0m:\u001b[36m108\u001b[0m - \u001b[1mrank: -1\u001b[0m\n",
      "\u001b[32m2024-04-10 06:27:45.131\u001b[0m | \u001b[1mINFO    \u001b[0m | \u001b[36m__main__\u001b[0m:\u001b[36m__init__\u001b[0m:\u001b[36m110\u001b[0m - \u001b[1mworld_size: 1\u001b[0m\n",
      "\u001b[32m2024-04-10 06:27:45.131\u001b[0m | \u001b[1mINFO    \u001b[0m | \u001b[36m__main__\u001b[0m:\u001b[36m__init__\u001b[0m:\u001b[36m111\u001b[0m - \u001b[1maccumulation: 1\u001b[0m\n",
      "\u001b[32m2024-04-10 06:27:45.133\u001b[0m | \u001b[1mINFO    \u001b[0m | \u001b[36m__main__\u001b[0m:\u001b[36mbuild_model\u001b[0m:\u001b[36m137\u001b[0m - \u001b[1mcreating model tresnet_l...\u001b[0m\n",
      "Traceback (most recent call last):\n",
      "  File \"/home/ubuntu/dev/mld-debug/train_ac.py\", line 364, in <module>\n",
      "    trainer =Trainer(args)\n",
      "  File \"/home/ubuntu/dev/mld-debug/train_ac.py\", line 119, in __init__\n",
      "    self.build_model()\n",
      "  File \"/home/ubuntu/dev/mld-debug/train_ac.py\", line 138, in build_model\n",
      "    self.model = create_model(self.args).cuda()\n",
      "  File \"/home/ubuntu/dev/mld-debug/src_files/models/utils/factory.py\", line 42, in create_model\n",
      "    model = mld.add_ml_decoder_head(model,num_classes=args.num_classes,num_of_groups=args.num_of_groups,\n",
      "TypeError: add_ml_decoder_head() got an unexpected keyword argument 'num_layers_decoder'\n"
     ]
    }
   ],
   "source": [
    "!python train_ac.py --imgs_train ./data --imgs_val ./data --label_train ./fake_labels.json --label_val ./fake_labels.json"
   ]
  },
  {
   "cell_type": "code",
   "execution_count": 19,
   "metadata": {},
   "outputs": [
    {
     "name": "stdout",
     "output_type": "stream",
     "text": [
      "Requirement already satisfied: timm in /home/ubuntu/miniconda3/lib/python3.10/site-packages (0.9.7)\n",
      "Collecting timm\n",
      "  Downloading timm-0.9.16-py3-none-any.whl.metadata (38 kB)\n",
      "Requirement already satisfied: torch in /home/ubuntu/miniconda3/lib/python3.10/site-packages (from timm) (2.1.0)\n",
      "Requirement already satisfied: torchvision in /home/ubuntu/miniconda3/lib/python3.10/site-packages (from timm) (0.16.0)\n",
      "Requirement already satisfied: pyyaml in /home/ubuntu/miniconda3/lib/python3.10/site-packages (from timm) (6.0.1)\n",
      "Requirement already satisfied: huggingface_hub in /home/ubuntu/miniconda3/lib/python3.10/site-packages (from timm) (0.20.3)\n",
      "Requirement already satisfied: safetensors in /home/ubuntu/miniconda3/lib/python3.10/site-packages (from timm) (0.3.1)\n",
      "Requirement already satisfied: filelock in /home/ubuntu/miniconda3/lib/python3.10/site-packages (from huggingface_hub->timm) (3.12.4)\n",
      "Requirement already satisfied: fsspec>=2023.5.0 in /home/ubuntu/miniconda3/lib/python3.10/site-packages (from huggingface_hub->timm) (2023.12.2)\n",
      "Requirement already satisfied: requests in /home/ubuntu/miniconda3/lib/python3.10/site-packages (from huggingface_hub->timm) (2.31.0)\n",
      "Requirement already satisfied: tqdm>=4.42.1 in /home/ubuntu/miniconda3/lib/python3.10/site-packages (from huggingface_hub->timm) (4.66.1)\n",
      "Requirement already satisfied: typing-extensions>=3.7.4.3 in /home/ubuntu/miniconda3/lib/python3.10/site-packages (from huggingface_hub->timm) (4.9.0)\n",
      "Requirement already satisfied: packaging>=20.9 in /home/ubuntu/miniconda3/lib/python3.10/site-packages (from huggingface_hub->timm) (23.2)\n",
      "Requirement already satisfied: sympy in /home/ubuntu/miniconda3/lib/python3.10/site-packages (from torch->timm) (1.12)\n",
      "Requirement already satisfied: networkx in /home/ubuntu/miniconda3/lib/python3.10/site-packages (from torch->timm) (3.1)\n",
      "Requirement already satisfied: jinja2 in /home/ubuntu/miniconda3/lib/python3.10/site-packages (from torch->timm) (3.1.2)\n",
      "Requirement already satisfied: nvidia-cuda-nvrtc-cu12==12.1.105 in /home/ubuntu/miniconda3/lib/python3.10/site-packages (from torch->timm) (12.1.105)\n",
      "Requirement already satisfied: nvidia-cuda-runtime-cu12==12.1.105 in /home/ubuntu/miniconda3/lib/python3.10/site-packages (from torch->timm) (12.1.105)\n",
      "Requirement already satisfied: nvidia-cuda-cupti-cu12==12.1.105 in /home/ubuntu/miniconda3/lib/python3.10/site-packages (from torch->timm) (12.1.105)\n",
      "Requirement already satisfied: nvidia-cudnn-cu12==8.9.2.26 in /home/ubuntu/miniconda3/lib/python3.10/site-packages (from torch->timm) (8.9.2.26)\n",
      "Requirement already satisfied: nvidia-cublas-cu12==12.1.3.1 in /home/ubuntu/miniconda3/lib/python3.10/site-packages (from torch->timm) (12.1.3.1)\n",
      "Requirement already satisfied: nvidia-cufft-cu12==11.0.2.54 in /home/ubuntu/miniconda3/lib/python3.10/site-packages (from torch->timm) (11.0.2.54)\n",
      "Requirement already satisfied: nvidia-curand-cu12==10.3.2.106 in /home/ubuntu/miniconda3/lib/python3.10/site-packages (from torch->timm) (10.3.2.106)\n",
      "Requirement already satisfied: nvidia-cusolver-cu12==11.4.5.107 in /home/ubuntu/miniconda3/lib/python3.10/site-packages (from torch->timm) (11.4.5.107)\n",
      "Requirement already satisfied: nvidia-cusparse-cu12==12.1.0.106 in /home/ubuntu/miniconda3/lib/python3.10/site-packages (from torch->timm) (12.1.0.106)\n",
      "Requirement already satisfied: nvidia-nccl-cu12==2.18.1 in /home/ubuntu/miniconda3/lib/python3.10/site-packages (from torch->timm) (2.18.1)\n",
      "Requirement already satisfied: nvidia-nvtx-cu12==12.1.105 in /home/ubuntu/miniconda3/lib/python3.10/site-packages (from torch->timm) (12.1.105)\n",
      "Requirement already satisfied: triton==2.1.0 in /home/ubuntu/miniconda3/lib/python3.10/site-packages (from torch->timm) (2.1.0)\n",
      "Requirement already satisfied: nvidia-nvjitlink-cu12 in /home/ubuntu/miniconda3/lib/python3.10/site-packages (from nvidia-cusolver-cu12==11.4.5.107->torch->timm) (12.2.140)\n",
      "Requirement already satisfied: numpy in /home/ubuntu/miniconda3/lib/python3.10/site-packages (from torchvision->timm) (1.26.4)\n",
      "Requirement already satisfied: pillow!=8.3.*,>=5.3.0 in /home/ubuntu/miniconda3/lib/python3.10/site-packages (from torchvision->timm) (10.0.1)\n",
      "Requirement already satisfied: MarkupSafe>=2.0 in /home/ubuntu/miniconda3/lib/python3.10/site-packages (from jinja2->torch->timm) (2.1.3)\n",
      "Requirement already satisfied: charset-normalizer<4,>=2 in /home/ubuntu/miniconda3/lib/python3.10/site-packages (from requests->huggingface_hub->timm) (3.3.2)\n",
      "Requirement already satisfied: idna<4,>=2.5 in /home/ubuntu/miniconda3/lib/python3.10/site-packages (from requests->huggingface_hub->timm) (3.6)\n",
      "Requirement already satisfied: urllib3<3,>=1.21.1 in /home/ubuntu/miniconda3/lib/python3.10/site-packages (from requests->huggingface_hub->timm) (2.0.7)\n",
      "Requirement already satisfied: certifi>=2017.4.17 in /home/ubuntu/miniconda3/lib/python3.10/site-packages (from requests->huggingface_hub->timm) (2024.2.2)\n",
      "Requirement already satisfied: mpmath>=0.19 in /home/ubuntu/miniconda3/lib/python3.10/site-packages (from sympy->torch->timm) (1.3.0)\n",
      "Downloading timm-0.9.16-py3-none-any.whl (2.2 MB)\n",
      "\u001b[2K   \u001b[90m━━━━━━━━━━━━━━━━━━━━━━━━━━━━━━━━━━━━━━━━\u001b[0m \u001b[32m2.2/2.2 MB\u001b[0m \u001b[31m33.1 MB/s\u001b[0m eta \u001b[36m0:00:00\u001b[0ma \u001b[36m0:00:01\u001b[0m\n",
      "\u001b[?25hInstalling collected packages: timm\n",
      "  Attempting uninstall: timm\n",
      "    Found existing installation: timm 0.9.7\n",
      "    Uninstalling timm-0.9.7:\n",
      "      Successfully uninstalled timm-0.9.7\n",
      "\u001b[31mERROR: pip's dependency resolver does not currently take into account all the packages that are installed. This behaviour is the source of the following dependency conflicts.\n",
      "open-clip-torch 2.20.0 requires protobuf<4, but you have protobuf 4.25.2 which is incompatible.\n",
      "tagit 0.2.17 requires huggingface-hub<0.17.0,>=0.16.4, but you have huggingface-hub 0.20.3 which is incompatible.\u001b[0m\u001b[31m\n",
      "\u001b[0mSuccessfully installed timm-0.9.16\n"
     ]
    }
   ],
   "source": [
    "!pip install -U timm"
   ]
  }
 ],
 "metadata": {
  "kernelspec": {
   "display_name": "base",
   "language": "python",
   "name": "python3"
  },
  "language_info": {
   "codemirror_mode": {
    "name": "ipython",
    "version": 3
   },
   "file_extension": ".py",
   "mimetype": "text/x-python",
   "name": "python",
   "nbconvert_exporter": "python",
   "pygments_lexer": "ipython3",
   "version": "3.10.13"
  }
 },
 "nbformat": 4,
 "nbformat_minor": 2
}
